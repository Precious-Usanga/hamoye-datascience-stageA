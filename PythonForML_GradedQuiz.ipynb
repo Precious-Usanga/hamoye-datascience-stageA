{
  "nbformat": 4,
  "nbformat_minor": 0,
  "metadata": {
    "colab": {
      "name": "PythonForML_GradedQuiz.ipynb",
      "provenance": [],
      "authorship_tag": "ABX9TyMWzjpp6nzT4vjVRwnAwKcW",
      "include_colab_link": true
    },
    "kernelspec": {
      "name": "python3",
      "display_name": "Python 3"
    }
  },
  "cells": [
    {
      "cell_type": "markdown",
      "metadata": {
        "id": "view-in-github",
        "colab_type": "text"
      },
      "source": [
        "<a href=\"https://colab.research.google.com/github/Precious-Usanga/hamoye-datascience-stageA/blob/master/PythonForML_GradedQuiz.ipynb\" target=\"_parent\"><img src=\"https://colab.research.google.com/assets/colab-badge.svg\" alt=\"Open In Colab\"/></a>"
      ]
    },
    {
      "cell_type": "code",
      "metadata": {
        "id": "4as6G4wArpZH",
        "colab_type": "code",
        "colab": {
          "base_uri": "https://localhost:8080/",
          "height": 34
        },
        "outputId": "d8f8273b-52b6-4211-da62-919eb34a1d91"
      },
      "source": [
        "A = [1,2,3,4,5,6]\n",
        "B = [13, 21, 34]\n",
        "\n",
        "# A_B = A.extend(B)\n",
        "print(A.extend(B))"
      ],
      "execution_count": 2,
      "outputs": [
        {
          "output_type": "stream",
          "text": [
            "None\n"
          ],
          "name": "stdout"
        }
      ]
    },
    {
      "cell_type": "code",
      "metadata": {
        "id": "-fU8KKKhsRuz",
        "colab_type": "code",
        "colab": {
          "base_uri": "https://localhost:8080/",
          "height": 119
        },
        "outputId": "eed951a0-0a0d-405d-a13a-f3b14ec7a7c7"
      },
      "source": [
        "import numpy as np\n",
        "\n",
        "a = np.identity(3)\n",
        "b = np.eye(3)\n",
        "print(a)\n",
        "print(b)"
      ],
      "execution_count": 3,
      "outputs": [
        {
          "output_type": "stream",
          "text": [
            "[[1. 0. 0.]\n",
            " [0. 1. 0.]\n",
            " [0. 0. 1.]]\n",
            "[[1. 0. 0.]\n",
            " [0. 1. 0.]\n",
            " [0. 0. 1.]]\n"
          ],
          "name": "stdout"
        }
      ]
    },
    {
      "cell_type": "code",
      "metadata": {
        "id": "KVlB3psktVVf",
        "colab_type": "code",
        "colab": {
          "base_uri": "https://localhost:8080/",
          "height": 410
        },
        "outputId": "f123c74b-dcd2-45b7-8731-03a2352b24a1"
      },
      "source": [
        "import pandas as pd\n",
        "url = \"https://raw.githubusercontent.com/WalePhenomenon/climate_change/master/fuel_ferc1.csv?raw=true\"\n",
        "fuel_data = pd.read_csv(url, error_bad_lines=False)\n",
        "fuel_data.describe(include=\"all\")"
      ],
      "execution_count": 4,
      "outputs": [
        {
          "output_type": "execute_result",
          "data": {
            "text/html": [
              "<div>\n",
              "<style scoped>\n",
              "    .dataframe tbody tr th:only-of-type {\n",
              "        vertical-align: middle;\n",
              "    }\n",
              "\n",
              "    .dataframe tbody tr th {\n",
              "        vertical-align: top;\n",
              "    }\n",
              "\n",
              "    .dataframe thead th {\n",
              "        text-align: right;\n",
              "    }\n",
              "</style>\n",
              "<table border=\"1\" class=\"dataframe\">\n",
              "  <thead>\n",
              "    <tr style=\"text-align: right;\">\n",
              "      <th></th>\n",
              "      <th>record_id</th>\n",
              "      <th>utility_id_ferc1</th>\n",
              "      <th>report_year</th>\n",
              "      <th>plant_name_ferc1</th>\n",
              "      <th>fuel_type_code_pudl</th>\n",
              "      <th>fuel_unit</th>\n",
              "      <th>fuel_qty_burned</th>\n",
              "      <th>fuel_mmbtu_per_unit</th>\n",
              "      <th>fuel_cost_per_unit_burned</th>\n",
              "      <th>fuel_cost_per_unit_delivered</th>\n",
              "      <th>fuel_cost_per_mmbtu</th>\n",
              "    </tr>\n",
              "  </thead>\n",
              "  <tbody>\n",
              "    <tr>\n",
              "      <th>count</th>\n",
              "      <td>29523</td>\n",
              "      <td>29523.000000</td>\n",
              "      <td>29523.000000</td>\n",
              "      <td>29523</td>\n",
              "      <td>29523</td>\n",
              "      <td>29343</td>\n",
              "      <td>2.952300e+04</td>\n",
              "      <td>29523.000000</td>\n",
              "      <td>29523.000000</td>\n",
              "      <td>2.952300e+04</td>\n",
              "      <td>29523.000000</td>\n",
              "    </tr>\n",
              "    <tr>\n",
              "      <th>unique</th>\n",
              "      <td>29523</td>\n",
              "      <td>NaN</td>\n",
              "      <td>NaN</td>\n",
              "      <td>2315</td>\n",
              "      <td>6</td>\n",
              "      <td>9</td>\n",
              "      <td>NaN</td>\n",
              "      <td>NaN</td>\n",
              "      <td>NaN</td>\n",
              "      <td>NaN</td>\n",
              "      <td>NaN</td>\n",
              "    </tr>\n",
              "    <tr>\n",
              "      <th>top</th>\n",
              "      <td>f1_fuel_1997_12_69_1_1</td>\n",
              "      <td>NaN</td>\n",
              "      <td>NaN</td>\n",
              "      <td>big stone</td>\n",
              "      <td>gas</td>\n",
              "      <td>mcf</td>\n",
              "      <td>NaN</td>\n",
              "      <td>NaN</td>\n",
              "      <td>NaN</td>\n",
              "      <td>NaN</td>\n",
              "      <td>NaN</td>\n",
              "    </tr>\n",
              "    <tr>\n",
              "      <th>freq</th>\n",
              "      <td>1</td>\n",
              "      <td>NaN</td>\n",
              "      <td>NaN</td>\n",
              "      <td>156</td>\n",
              "      <td>11486</td>\n",
              "      <td>11354</td>\n",
              "      <td>NaN</td>\n",
              "      <td>NaN</td>\n",
              "      <td>NaN</td>\n",
              "      <td>NaN</td>\n",
              "      <td>NaN</td>\n",
              "    </tr>\n",
              "    <tr>\n",
              "      <th>mean</th>\n",
              "      <td>NaN</td>\n",
              "      <td>118.601836</td>\n",
              "      <td>2005.806050</td>\n",
              "      <td>NaN</td>\n",
              "      <td>NaN</td>\n",
              "      <td>NaN</td>\n",
              "      <td>2.622119e+06</td>\n",
              "      <td>8.492111</td>\n",
              "      <td>208.649031</td>\n",
              "      <td>9.175704e+02</td>\n",
              "      <td>19.304354</td>\n",
              "    </tr>\n",
              "    <tr>\n",
              "      <th>std</th>\n",
              "      <td>NaN</td>\n",
              "      <td>74.178353</td>\n",
              "      <td>7.025483</td>\n",
              "      <td>NaN</td>\n",
              "      <td>NaN</td>\n",
              "      <td>NaN</td>\n",
              "      <td>9.118004e+06</td>\n",
              "      <td>10.600220</td>\n",
              "      <td>2854.490090</td>\n",
              "      <td>6.877593e+04</td>\n",
              "      <td>2091.540939</td>\n",
              "    </tr>\n",
              "    <tr>\n",
              "      <th>min</th>\n",
              "      <td>NaN</td>\n",
              "      <td>1.000000</td>\n",
              "      <td>1994.000000</td>\n",
              "      <td>NaN</td>\n",
              "      <td>NaN</td>\n",
              "      <td>NaN</td>\n",
              "      <td>1.000000e+00</td>\n",
              "      <td>0.000001</td>\n",
              "      <td>-276.080000</td>\n",
              "      <td>-8.749370e+02</td>\n",
              "      <td>-41.501000</td>\n",
              "    </tr>\n",
              "    <tr>\n",
              "      <th>25%</th>\n",
              "      <td>NaN</td>\n",
              "      <td>55.000000</td>\n",
              "      <td>2000.000000</td>\n",
              "      <td>NaN</td>\n",
              "      <td>NaN</td>\n",
              "      <td>NaN</td>\n",
              "      <td>1.381700e+04</td>\n",
              "      <td>1.024000</td>\n",
              "      <td>5.207000</td>\n",
              "      <td>3.778500e+00</td>\n",
              "      <td>1.940000</td>\n",
              "    </tr>\n",
              "    <tr>\n",
              "      <th>50%</th>\n",
              "      <td>NaN</td>\n",
              "      <td>122.000000</td>\n",
              "      <td>2006.000000</td>\n",
              "      <td>NaN</td>\n",
              "      <td>NaN</td>\n",
              "      <td>NaN</td>\n",
              "      <td>2.533220e+05</td>\n",
              "      <td>5.762694</td>\n",
              "      <td>26.000000</td>\n",
              "      <td>1.737100e+01</td>\n",
              "      <td>4.127000</td>\n",
              "    </tr>\n",
              "    <tr>\n",
              "      <th>75%</th>\n",
              "      <td>NaN</td>\n",
              "      <td>176.000000</td>\n",
              "      <td>2012.000000</td>\n",
              "      <td>NaN</td>\n",
              "      <td>NaN</td>\n",
              "      <td>NaN</td>\n",
              "      <td>1.424034e+06</td>\n",
              "      <td>17.006000</td>\n",
              "      <td>47.113000</td>\n",
              "      <td>4.213700e+01</td>\n",
              "      <td>7.745000</td>\n",
              "    </tr>\n",
              "    <tr>\n",
              "      <th>max</th>\n",
              "      <td>NaN</td>\n",
              "      <td>514.000000</td>\n",
              "      <td>2018.000000</td>\n",
              "      <td>NaN</td>\n",
              "      <td>NaN</td>\n",
              "      <td>NaN</td>\n",
              "      <td>5.558942e+08</td>\n",
              "      <td>341.260000</td>\n",
              "      <td>139358.000000</td>\n",
              "      <td>7.964521e+06</td>\n",
              "      <td>359278.000000</td>\n",
              "    </tr>\n",
              "  </tbody>\n",
              "</table>\n",
              "</div>"
            ],
            "text/plain": [
              "                     record_id  ...  fuel_cost_per_mmbtu\n",
              "count                    29523  ...         29523.000000\n",
              "unique                   29523  ...                  NaN\n",
              "top     f1_fuel_1997_12_69_1_1  ...                  NaN\n",
              "freq                         1  ...                  NaN\n",
              "mean                       NaN  ...            19.304354\n",
              "std                        NaN  ...          2091.540939\n",
              "min                        NaN  ...           -41.501000\n",
              "25%                        NaN  ...             1.940000\n",
              "50%                        NaN  ...             4.127000\n",
              "75%                        NaN  ...             7.745000\n",
              "max                        NaN  ...        359278.000000\n",
              "\n",
              "[11 rows x 11 columns]"
            ]
          },
          "metadata": {
            "tags": []
          },
          "execution_count": 4
        }
      ]
    },
    {
      "cell_type": "code",
      "metadata": {
        "id": "iycof1wsuHpV",
        "colab_type": "code",
        "colab": {
          "base_uri": "https://localhost:8080/",
          "height": 153
        },
        "outputId": "582af00d-cc06-485e-a43c-3ace7989bb6a"
      },
      "source": [
        "fuel_data.groupby(\"fuel_type_code_pudl\")[\"fuel_type_code_pudl\"].count()"
      ],
      "execution_count": 6,
      "outputs": [
        {
          "output_type": "execute_result",
          "data": {
            "text/plain": [
              "fuel_type_code_pudl\n",
              "coal        8547\n",
              "gas        11486\n",
              "nuclear      818\n",
              "oil         8064\n",
              "other        167\n",
              "waste        441\n",
              "Name: fuel_type_code_pudl, dtype: int64"
            ]
          },
          "metadata": {
            "tags": []
          },
          "execution_count": 6
        }
      ]
    },
    {
      "cell_type": "code",
      "metadata": {
        "id": "YSS7abRcufjL",
        "colab_type": "code",
        "colab": {
          "base_uri": "https://localhost:8080/",
          "height": 378
        },
        "outputId": "aa642849-e556-4f93-fd01-20a47fd191cd"
      },
      "source": [
        "import matplotlib.pyplot as plt\n",
        "import seaborn as sns\n",
        "\n",
        "plt.figure(figsize=(7,4))\n",
        "plt.xticks(rotation=90)\n",
        "sns.boxplot(x=\"fuel_type_code_pudl\", y=\"utility_id_ferc1\",\n",
        "            palette=[\"m\", \"g\"], data=fuel_data)\n",
        "plt.xlabel('Fuel Unit')"
      ],
      "execution_count": 7,
      "outputs": [
        {
          "output_type": "stream",
          "text": [
            "/usr/local/lib/python3.6/dist-packages/statsmodels/tools/_testing.py:19: FutureWarning: pandas.util.testing is deprecated. Use the functions in the public API at pandas.testing instead.\n",
            "  import pandas.util.testing as tm\n"
          ],
          "name": "stderr"
        },
        {
          "output_type": "execute_result",
          "data": {
            "text/plain": [
              "Text(0.5, 0, 'Fuel Unit')"
            ]
          },
          "metadata": {
            "tags": []
          },
          "execution_count": 7
        },
        {
          "output_type": "display_data",
          "data": {
            "image/png": "[encoded data removed]",
            "text/plain": [
              "<Figure size 504x288 with 1 Axes>"
            ]
          },
          "metadata": {
            "tags": [],
            "needs_background": "light"
          }
        }
      ]
    },
    {
      "cell_type": "code",
      "metadata": {
        "id": "mCCVshnLvVcP",
        "colab_type": "code",
        "colab": {
          "base_uri": "https://localhost:8080/",
          "height": 282
        },
        "outputId": "481c6120-8f70-449e-dea9-486d0037c936"
      },
      "source": [
        "sample_df = fuel_data.sample(n=50, random_state=4)\n",
        "sns.kdeplot(sample_df['fuel_cost_per_unit_burned'], shade=True, color=\"b\")"
      ],
      "execution_count": 9,
      "outputs": [
        {
          "output_type": "execute_result",
          "data": {
            "text/plain": [
              "<matplotlib.axes._subplots.AxesSubplot at 0x7f5af47ba400>"
            ]
          },
          "metadata": {
            "tags": []
          },
          "execution_count": 9
        },
        {
          "output_type": "display_data",
          "data": {
            "image/png": "[encoded data removed]",
            "text/plain": [
              "<Figure size 432x288 with 1 Axes>"
            ]
          },
          "metadata": {
            "tags": [],
            "needs_background": "light"
          }
        }
      ]
    },
    {
      "cell_type": "code",
      "metadata": {
        "id": "KGWYwB8ivi_s",
        "colab_type": "code",
        "colab": {
          "base_uri": "https://localhost:8080/",
          "height": 170
        },
        "outputId": "5838f184-9ab7-424c-d0a1-e9a8d14b2e02"
      },
      "source": [
        "fuel_data[\"fuel_mmbtu_per_unit\"].describe()"
      ],
      "execution_count": 10,
      "outputs": [
        {
          "output_type": "execute_result",
          "data": {
            "text/plain": [
              "count    29523.000000\n",
              "mean         8.492111\n",
              "std         10.600220\n",
              "min          0.000001\n",
              "25%          1.024000\n",
              "50%          5.762694\n",
              "75%         17.006000\n",
              "max        341.260000\n",
              "Name: fuel_mmbtu_per_unit, dtype: float64"
            ]
          },
          "metadata": {
            "tags": []
          },
          "execution_count": 10
        }
      ]
    },
    {
      "cell_type": "code",
      "metadata": {
        "id": "PZ3YeVBRwC1g",
        "colab_type": "code",
        "colab": {}
      },
      "source": [
        "from scipy.stats import kurtosis, skew\n"
      ],
      "execution_count": null,
      "outputs": []
    },
    {
      "cell_type": "code",
      "metadata": {
        "id": "JjhObCYtw-vu",
        "colab_type": "code",
        "colab": {
          "base_uri": "https://localhost:8080/",
          "height": 221
        },
        "outputId": "4d90ba2b-599a-4f22-9dc6-7ed880782bd9"
      },
      "source": [
        "fuel_data.isnull().sum()"
      ],
      "execution_count": 11,
      "outputs": [
        {
          "output_type": "execute_result",
          "data": {
            "text/plain": [
              "record_id                         0\n",
              "utility_id_ferc1                  0\n",
              "report_year                       0\n",
              "plant_name_ferc1                  0\n",
              "fuel_type_code_pudl               0\n",
              "fuel_unit                       180\n",
              "fuel_qty_burned                   0\n",
              "fuel_mmbtu_per_unit               0\n",
              "fuel_cost_per_unit_burned         0\n",
              "fuel_cost_per_unit_delivered      0\n",
              "fuel_cost_per_mmbtu               0\n",
              "dtype: int64"
            ]
          },
          "metadata": {
            "tags": []
          },
          "execution_count": 11
        }
      ]
    },
    {
      "cell_type": "code",
      "metadata": {
        "id": "-0NO0MPSxABQ",
        "colab_type": "code",
        "colab": {
          "base_uri": "https://localhost:8080/",
          "height": 34
        },
        "outputId": "8b2cccbc-3d10-4c82-9602-135d0d6d79f7"
      },
      "source": [
        "1.8 * 29243"
      ],
      "execution_count": 14,
      "outputs": [
        {
          "output_type": "execute_result",
          "data": {
            "text/plain": [
              "52637.4"
            ]
          },
          "metadata": {
            "tags": []
          },
          "execution_count": 14
        }
      ]
    },
    {
      "cell_type": "code",
      "metadata": {
        "id": "TWK0mBcUxb3O",
        "colab_type": "code",
        "colab": {
          "base_uri": "https://localhost:8080/",
          "height": 298
        },
        "outputId": "3a4cb0f3-085a-426d-86eb-7d72b5bd505b"
      },
      "source": [
        "# sns.barplot(x=\"fuel_type_code_pudl\", y=\"report_year\", data=fuel_data)\n",
        "g = sns.barplot(data=fuel_data, x='fuel_type_code_pudl', y='report_year')\n",
        "g.set_yscale(\"log\")\n",
        "g.set_ylim(1, 12000)\n",
        "plt.xlabel('Fuel Unit')"
      ],
      "execution_count": 17,
      "outputs": [
        {
          "output_type": "execute_result",
          "data": {
            "text/plain": [
              "Text(0.5, 0, 'Fuel Unit')"
            ]
          },
          "metadata": {
            "tags": []
          },
          "execution_count": 17
        },
        {
          "output_type": "display_data",
          "data": {
            "image/png": "[encoded data removed]",
            "text/plain": [
              "<Figure size 432x288 with 1 Axes>"
            ]
          },
          "metadata": {
            "tags": [],
            "needs_background": "light"
          }
        }
      ]
    },
    {
      "cell_type": "code",
      "metadata": {
        "id": "kVIgKTDh1tyr",
        "colab_type": "code",
        "colab": {
          "base_uri": "https://localhost:8080/",
          "height": 855
        },
        "outputId": "60ff840c-c369-491a-d171-0459d96e6181"
      },
      "source": [
        "fuel_data.groupby(\"report_year\")[\"report_year\"].describe()"
      ],
      "execution_count": 20,
      "outputs": [
        {
          "output_type": "execute_result",
          "data": {
            "text/html": [
              "<div>\n",
              "<style scoped>\n",
              "    .dataframe tbody tr th:only-of-type {\n",
              "        vertical-align: middle;\n",
              "    }\n",
              "\n",
              "    .dataframe tbody tr th {\n",
              "        vertical-align: top;\n",
              "    }\n",
              "\n",
              "    .dataframe thead th {\n",
              "        text-align: right;\n",
              "    }\n",
              "</style>\n",
              "<table border=\"1\" class=\"dataframe\">\n",
              "  <thead>\n",
              "    <tr style=\"text-align: right;\">\n",
              "      <th></th>\n",
              "      <th>count</th>\n",
              "      <th>mean</th>\n",
              "      <th>std</th>\n",
              "      <th>min</th>\n",
              "      <th>25%</th>\n",
              "      <th>50%</th>\n",
              "      <th>75%</th>\n",
              "      <th>max</th>\n",
              "    </tr>\n",
              "    <tr>\n",
              "      <th>report_year</th>\n",
              "      <th></th>\n",
              "      <th></th>\n",
              "      <th></th>\n",
              "      <th></th>\n",
              "      <th></th>\n",
              "      <th></th>\n",
              "      <th></th>\n",
              "      <th></th>\n",
              "    </tr>\n",
              "  </thead>\n",
              "  <tbody>\n",
              "    <tr>\n",
              "      <th>1994</th>\n",
              "      <td>1235.0</td>\n",
              "      <td>1994.0</td>\n",
              "      <td>0.0</td>\n",
              "      <td>1994.0</td>\n",
              "      <td>1994.0</td>\n",
              "      <td>1994.0</td>\n",
              "      <td>1994.0</td>\n",
              "      <td>1994.0</td>\n",
              "    </tr>\n",
              "    <tr>\n",
              "      <th>1995</th>\n",
              "      <td>1201.0</td>\n",
              "      <td>1995.0</td>\n",
              "      <td>0.0</td>\n",
              "      <td>1995.0</td>\n",
              "      <td>1995.0</td>\n",
              "      <td>1995.0</td>\n",
              "      <td>1995.0</td>\n",
              "      <td>1995.0</td>\n",
              "    </tr>\n",
              "    <tr>\n",
              "      <th>1996</th>\n",
              "      <td>1088.0</td>\n",
              "      <td>1996.0</td>\n",
              "      <td>0.0</td>\n",
              "      <td>1996.0</td>\n",
              "      <td>1996.0</td>\n",
              "      <td>1996.0</td>\n",
              "      <td>1996.0</td>\n",
              "      <td>1996.0</td>\n",
              "    </tr>\n",
              "    <tr>\n",
              "      <th>1997</th>\n",
              "      <td>1094.0</td>\n",
              "      <td>1997.0</td>\n",
              "      <td>0.0</td>\n",
              "      <td>1997.0</td>\n",
              "      <td>1997.0</td>\n",
              "      <td>1997.0</td>\n",
              "      <td>1997.0</td>\n",
              "      <td>1997.0</td>\n",
              "    </tr>\n",
              "    <tr>\n",
              "      <th>1998</th>\n",
              "      <td>1107.0</td>\n",
              "      <td>1998.0</td>\n",
              "      <td>0.0</td>\n",
              "      <td>1998.0</td>\n",
              "      <td>1998.0</td>\n",
              "      <td>1998.0</td>\n",
              "      <td>1998.0</td>\n",
              "      <td>1998.0</td>\n",
              "    </tr>\n",
              "    <tr>\n",
              "      <th>1999</th>\n",
              "      <td>1050.0</td>\n",
              "      <td>1999.0</td>\n",
              "      <td>0.0</td>\n",
              "      <td>1999.0</td>\n",
              "      <td>1999.0</td>\n",
              "      <td>1999.0</td>\n",
              "      <td>1999.0</td>\n",
              "      <td>1999.0</td>\n",
              "    </tr>\n",
              "    <tr>\n",
              "      <th>2000</th>\n",
              "      <td>1373.0</td>\n",
              "      <td>2000.0</td>\n",
              "      <td>0.0</td>\n",
              "      <td>2000.0</td>\n",
              "      <td>2000.0</td>\n",
              "      <td>2000.0</td>\n",
              "      <td>2000.0</td>\n",
              "      <td>2000.0</td>\n",
              "    </tr>\n",
              "    <tr>\n",
              "      <th>2001</th>\n",
              "      <td>1356.0</td>\n",
              "      <td>2001.0</td>\n",
              "      <td>0.0</td>\n",
              "      <td>2001.0</td>\n",
              "      <td>2001.0</td>\n",
              "      <td>2001.0</td>\n",
              "      <td>2001.0</td>\n",
              "      <td>2001.0</td>\n",
              "    </tr>\n",
              "    <tr>\n",
              "      <th>2002</th>\n",
              "      <td>1205.0</td>\n",
              "      <td>2002.0</td>\n",
              "      <td>0.0</td>\n",
              "      <td>2002.0</td>\n",
              "      <td>2002.0</td>\n",
              "      <td>2002.0</td>\n",
              "      <td>2002.0</td>\n",
              "      <td>2002.0</td>\n",
              "    </tr>\n",
              "    <tr>\n",
              "      <th>2003</th>\n",
              "      <td>1211.0</td>\n",
              "      <td>2003.0</td>\n",
              "      <td>0.0</td>\n",
              "      <td>2003.0</td>\n",
              "      <td>2003.0</td>\n",
              "      <td>2003.0</td>\n",
              "      <td>2003.0</td>\n",
              "      <td>2003.0</td>\n",
              "    </tr>\n",
              "    <tr>\n",
              "      <th>2004</th>\n",
              "      <td>1192.0</td>\n",
              "      <td>2004.0</td>\n",
              "      <td>0.0</td>\n",
              "      <td>2004.0</td>\n",
              "      <td>2004.0</td>\n",
              "      <td>2004.0</td>\n",
              "      <td>2004.0</td>\n",
              "      <td>2004.0</td>\n",
              "    </tr>\n",
              "    <tr>\n",
              "      <th>2005</th>\n",
              "      <td>1269.0</td>\n",
              "      <td>2005.0</td>\n",
              "      <td>0.0</td>\n",
              "      <td>2005.0</td>\n",
              "      <td>2005.0</td>\n",
              "      <td>2005.0</td>\n",
              "      <td>2005.0</td>\n",
              "      <td>2005.0</td>\n",
              "    </tr>\n",
              "    <tr>\n",
              "      <th>2006</th>\n",
              "      <td>1243.0</td>\n",
              "      <td>2006.0</td>\n",
              "      <td>0.0</td>\n",
              "      <td>2006.0</td>\n",
              "      <td>2006.0</td>\n",
              "      <td>2006.0</td>\n",
              "      <td>2006.0</td>\n",
              "      <td>2006.0</td>\n",
              "    </tr>\n",
              "    <tr>\n",
              "      <th>2007</th>\n",
              "      <td>1264.0</td>\n",
              "      <td>2007.0</td>\n",
              "      <td>0.0</td>\n",
              "      <td>2007.0</td>\n",
              "      <td>2007.0</td>\n",
              "      <td>2007.0</td>\n",
              "      <td>2007.0</td>\n",
              "      <td>2007.0</td>\n",
              "    </tr>\n",
              "    <tr>\n",
              "      <th>2008</th>\n",
              "      <td>1228.0</td>\n",
              "      <td>2008.0</td>\n",
              "      <td>0.0</td>\n",
              "      <td>2008.0</td>\n",
              "      <td>2008.0</td>\n",
              "      <td>2008.0</td>\n",
              "      <td>2008.0</td>\n",
              "      <td>2008.0</td>\n",
              "    </tr>\n",
              "    <tr>\n",
              "      <th>2009</th>\n",
              "      <td>1222.0</td>\n",
              "      <td>2009.0</td>\n",
              "      <td>0.0</td>\n",
              "      <td>2009.0</td>\n",
              "      <td>2009.0</td>\n",
              "      <td>2009.0</td>\n",
              "      <td>2009.0</td>\n",
              "      <td>2009.0</td>\n",
              "    </tr>\n",
              "    <tr>\n",
              "      <th>2010</th>\n",
              "      <td>1261.0</td>\n",
              "      <td>2010.0</td>\n",
              "      <td>0.0</td>\n",
              "      <td>2010.0</td>\n",
              "      <td>2010.0</td>\n",
              "      <td>2010.0</td>\n",
              "      <td>2010.0</td>\n",
              "      <td>2010.0</td>\n",
              "    </tr>\n",
              "    <tr>\n",
              "      <th>2011</th>\n",
              "      <td>1240.0</td>\n",
              "      <td>2011.0</td>\n",
              "      <td>0.0</td>\n",
              "      <td>2011.0</td>\n",
              "      <td>2011.0</td>\n",
              "      <td>2011.0</td>\n",
              "      <td>2011.0</td>\n",
              "      <td>2011.0</td>\n",
              "    </tr>\n",
              "    <tr>\n",
              "      <th>2012</th>\n",
              "      <td>1243.0</td>\n",
              "      <td>2012.0</td>\n",
              "      <td>0.0</td>\n",
              "      <td>2012.0</td>\n",
              "      <td>2012.0</td>\n",
              "      <td>2012.0</td>\n",
              "      <td>2012.0</td>\n",
              "      <td>2012.0</td>\n",
              "    </tr>\n",
              "    <tr>\n",
              "      <th>2013</th>\n",
              "      <td>1199.0</td>\n",
              "      <td>2013.0</td>\n",
              "      <td>0.0</td>\n",
              "      <td>2013.0</td>\n",
              "      <td>2013.0</td>\n",
              "      <td>2013.0</td>\n",
              "      <td>2013.0</td>\n",
              "      <td>2013.0</td>\n",
              "    </tr>\n",
              "    <tr>\n",
              "      <th>2014</th>\n",
              "      <td>1171.0</td>\n",
              "      <td>2014.0</td>\n",
              "      <td>0.0</td>\n",
              "      <td>2014.0</td>\n",
              "      <td>2014.0</td>\n",
              "      <td>2014.0</td>\n",
              "      <td>2014.0</td>\n",
              "      <td>2014.0</td>\n",
              "    </tr>\n",
              "    <tr>\n",
              "      <th>2015</th>\n",
              "      <td>1093.0</td>\n",
              "      <td>2015.0</td>\n",
              "      <td>0.0</td>\n",
              "      <td>2015.0</td>\n",
              "      <td>2015.0</td>\n",
              "      <td>2015.0</td>\n",
              "      <td>2015.0</td>\n",
              "      <td>2015.0</td>\n",
              "    </tr>\n",
              "    <tr>\n",
              "      <th>2016</th>\n",
              "      <td>1034.0</td>\n",
              "      <td>2016.0</td>\n",
              "      <td>0.0</td>\n",
              "      <td>2016.0</td>\n",
              "      <td>2016.0</td>\n",
              "      <td>2016.0</td>\n",
              "      <td>2016.0</td>\n",
              "      <td>2016.0</td>\n",
              "    </tr>\n",
              "    <tr>\n",
              "      <th>2017</th>\n",
              "      <td>993.0</td>\n",
              "      <td>2017.0</td>\n",
              "      <td>0.0</td>\n",
              "      <td>2017.0</td>\n",
              "      <td>2017.0</td>\n",
              "      <td>2017.0</td>\n",
              "      <td>2017.0</td>\n",
              "      <td>2017.0</td>\n",
              "    </tr>\n",
              "    <tr>\n",
              "      <th>2018</th>\n",
              "      <td>951.0</td>\n",
              "      <td>2018.0</td>\n",
              "      <td>0.0</td>\n",
              "      <td>2018.0</td>\n",
              "      <td>2018.0</td>\n",
              "      <td>2018.0</td>\n",
              "      <td>2018.0</td>\n",
              "      <td>2018.0</td>\n",
              "    </tr>\n",
              "  </tbody>\n",
              "</table>\n",
              "</div>"
            ],
            "text/plain": [
              "              count    mean  std     min     25%     50%     75%     max\n",
              "report_year                                                             \n",
              "1994         1235.0  1994.0  0.0  1994.0  1994.0  1994.0  1994.0  1994.0\n",
              "1995         1201.0  1995.0  0.0  1995.0  1995.0  1995.0  1995.0  1995.0\n",
              "1996         1088.0  1996.0  0.0  1996.0  1996.0  1996.0  1996.0  1996.0\n",
              "1997         1094.0  1997.0  0.0  1997.0  1997.0  1997.0  1997.0  1997.0\n",
              "1998         1107.0  1998.0  0.0  1998.0  1998.0  1998.0  1998.0  1998.0\n",
              "1999         1050.0  1999.0  0.0  1999.0  1999.0  1999.0  1999.0  1999.0\n",
              "2000         1373.0  2000.0  0.0  2000.0  2000.0  2000.0  2000.0  2000.0\n",
              "2001         1356.0  2001.0  0.0  2001.0  2001.0  2001.0  2001.0  2001.0\n",
              "2002         1205.0  2002.0  0.0  2002.0  2002.0  2002.0  2002.0  2002.0\n",
              "2003         1211.0  2003.0  0.0  2003.0  2003.0  2003.0  2003.0  2003.0\n",
              "2004         1192.0  2004.0  0.0  2004.0  2004.0  2004.0  2004.0  2004.0\n",
              "2005         1269.0  2005.0  0.0  2005.0  2005.0  2005.0  2005.0  2005.0\n",
              "2006         1243.0  2006.0  0.0  2006.0  2006.0  2006.0  2006.0  2006.0\n",
              "2007         1264.0  2007.0  0.0  2007.0  2007.0  2007.0  2007.0  2007.0\n",
              "2008         1228.0  2008.0  0.0  2008.0  2008.0  2008.0  2008.0  2008.0\n",
              "2009         1222.0  2009.0  0.0  2009.0  2009.0  2009.0  2009.0  2009.0\n",
              "2010         1261.0  2010.0  0.0  2010.0  2010.0  2010.0  2010.0  2010.0\n",
              "2011         1240.0  2011.0  0.0  2011.0  2011.0  2011.0  2011.0  2011.0\n",
              "2012         1243.0  2012.0  0.0  2012.0  2012.0  2012.0  2012.0  2012.0\n",
              "2013         1199.0  2013.0  0.0  2013.0  2013.0  2013.0  2013.0  2013.0\n",
              "2014         1171.0  2014.0  0.0  2014.0  2014.0  2014.0  2014.0  2014.0\n",
              "2015         1093.0  2015.0  0.0  2015.0  2015.0  2015.0  2015.0  2015.0\n",
              "2016         1034.0  2016.0  0.0  2016.0  2016.0  2016.0  2016.0  2016.0\n",
              "2017          993.0  2017.0  0.0  2017.0  2017.0  2017.0  2017.0  2017.0\n",
              "2018          951.0  2018.0  0.0  2018.0  2018.0  2018.0  2018.0  2018.0"
            ]
          },
          "metadata": {
            "tags": []
          },
          "execution_count": 20
        }
      ]
    },
    {
      "cell_type": "code",
      "metadata": {
        "id": "qs1XSJtq2dyX",
        "colab_type": "code",
        "colab": {}
      },
      "source": [
        ""
      ],
      "execution_count": null,
      "outputs": []
    }
  ]
}